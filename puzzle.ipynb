{
 "cells": [
  {
   "cell_type": "code",
   "execution_count": 14,
   "metadata": {},
   "outputs": [
    {
     "name": "stdout",
     "output_type": "stream",
     "text": [
      "GHJKL\n",
      "POIKU\n",
      "MN BG\n",
      "DCFRE\n",
      "XCSWQ\n",
      "AARRLLLBBO\n"
     ]
    }
   ],
   "source": [
    "puzzle = []\n",
    "for i in range(5):\n",
    "    s = input()\n",
    "    a = list(s)\n",
    "    puzzle.append(a)\n",
    "seq = input()\n",
    "l = 0"
   ]
  },
  {
   "cell_type": "code",
   "execution_count": 15,
   "metadata": {},
   "outputs": [],
   "source": [
    "for i,j in enumerate(puzzle):\n",
    "    for k,l in enumerate(j):\n",
    "        if(l == \" \"):\n",
    "            a = i\n",
    "            b = k"
   ]
  },
  {
   "cell_type": "code",
   "execution_count": 16,
   "metadata": {},
   "outputs": [],
   "source": [
    "def above(a, b):\n",
    "    if a > 0:\n",
    "        puzzle[a][b],puzzle[a - 1][b] = puzzle[a - 1][b],puzzle[a][b]\n",
    "        return 0\n",
    "    else:\n",
    "        return 1"
   ]
  },
  {
   "cell_type": "code",
   "execution_count": 17,
   "metadata": {},
   "outputs": [],
   "source": [
    "def below(a, b):\n",
    "    if a < 4:\n",
    "        puzzle[a][b],puzzle[a + 1][b] = puzzle[a + 1][b],puzzle[a][b]\n",
    "        return 0\n",
    "    else:\n",
    "        return 1"
   ]
  },
  {
   "cell_type": "code",
   "execution_count": 18,
   "metadata": {},
   "outputs": [],
   "source": [
    "def right(a, b):\n",
    "    if b < 4:\n",
    "        puzzle[a][b],puzzle[a][b + 1] = puzzle[a][b + 1],puzzle[a][b]\n",
    "        return 0\n",
    "    else:\n",
    "        return 1"
   ]
  },
  {
   "cell_type": "code",
   "execution_count": 19,
   "metadata": {},
   "outputs": [],
   "source": [
    "def left(a, b):\n",
    "    if b > 0:\n",
    "        puzzle[a][b],puzzle[a][b - 1] = puzzle[a][b - 1],puzzle[a][b]\n",
    "        return 0\n",
    "    else:\n",
    "        return 1"
   ]
  },
  {
   "cell_type": "code",
   "execution_count": 20,
   "metadata": {},
   "outputs": [
    {
     "name": "stdout",
     "output_type": "stream",
     "text": [
      "Sample output\n",
      "G O H K L\n",
      "P N J K U\n",
      "M   I B G\n",
      "D C F R E\n",
      "X C S W Q\n"
     ]
    }
   ],
   "source": [
    "for char in seq:\n",
    "    if char == \"A\":\n",
    "        l = above(a,b)\n",
    "        a = a - 1\n",
    "    if char == \"B\":\n",
    "        l = below(a,b)\n",
    "        a = a + 1\n",
    "    if char == \"R\":\n",
    "        l = right(a,b)\n",
    "        b = b + 1\n",
    "    if char == \"L\":\n",
    "        l = left(a,b)\n",
    "        b = b - 1\n",
    "    if l == 1:\n",
    "        print(\"This puzzle has no final configuration\")\n",
    "        break\n",
    "    if char == \"O\":\n",
    "        print(\"Sample output\")\n",
    "        for row in puzzle:\n",
    "            print(\" \".join(row))\n",
    "        break"
   ]
  },
  {
   "cell_type": "code",
   "execution_count": null,
   "metadata": {},
   "outputs": [],
   "source": []
  }
 ],
 "metadata": {
  "kernelspec": {
   "display_name": "Python 3",
   "language": "python",
   "name": "python3"
  }
 },
 "nbformat": 4,
 "nbformat_minor": 2
}
